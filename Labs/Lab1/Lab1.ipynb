{
 "cells": [
  {
   "cell_type": "markdown",
   "metadata": {},
   "source": [
    "# In Class Lab 1\n",
    "\n",
    "### Due by midnight, thursday in your github repository 'Labs/Lab1' folder\n"
   ]
  },
  {
   "cell_type": "code",
   "execution_count": 4,
   "metadata": {},
   "outputs": [],
   "source": [
    "# Import Modules \n",
    "import numpy as np # import numpy\n",
    "import astropy.units as u # import astropy units\n",
    "from astropy import constants as const # import astropy constants"
   ]
  },
  {
   "cell_type": "markdown",
   "metadata": {},
   "source": [
    "### Astropy Units:  https://docs.astropy.org/en/stable/units/index.html"
   ]
  },
  {
   "cell_type": "markdown",
   "metadata": {},
   "source": [
    "\n",
    "## Part A:  The Local Standard of Rest\n",
    "Proper motion of Sgr A* from Reid & Brunthaler 2004\n",
    "$\\mu = 6.379$ mas/yr \n",
    "\n",
    "Peculiar motion of the sun, $v_\\odot$ = 12.24 km/s  (Schonrich 2010)\n",
    "\n",
    "\n",
    "$v_{tan} = 4.74 \\frac{\\mu}{\\rm mas/yr} \\frac{R_o}{\\rm kpc} = V_{LSR} + v_\\odot$\n",
    "\n",
    "\n",
    "### a)\n",
    "\n",
    "Create a function called VLSR to compute the local standard of res (V$_{LSR}$).\n",
    "\n",
    "The function should take as input: the solar radius (R$_o$), the proper motion (mu)\n",
    "and the peculiar motion of the sun in the $v_\\odot$ direction.\n",
    "\n",
    "Compute V$_{LSR}$ using three different values R$_o$: \n",
    "1. Water Maser Distance for the Sun :  R$_o$ = 8.34 kpc   (Reid 2014 ApJ 783) \n",
    "2. GRAVITY Collaboration Distance for the Sun:  R$_o$ = 8.178 kpc   (Abuter+2019 A&A 625)\n",
    "3. Value for Distance to Sun listed in Sparke & Gallagher : R$_o$ = 7.9 kpc \n"
   ]
  },
  {
   "cell_type": "code",
   "execution_count": 7,
   "metadata": {},
   "outputs": [],
   "source": [
    "def VLSR(Ro, mu = 6.379, v_sun = 12.24*u.km/u.s):\n",
    "    \"\"\" This funcition will compute the velocity at the local standard of rest\n",
    "        VLSR = 4.74*mu*Ro - v_sun\n",
    "    Inputs: Ro (astropy units kpc) = Distance from the Sun to the Galactic Center\n",
    "            mu = Proper motion of Sag A* (mas/yr)\n",
    "                Default is from Reid & Brunthaler 2004\n",
    "            v_sun (kms/sec) = Peculiar motion of the Sun in the v direction (Schonrich+2010)\n",
    "    Outputs: VLSR (astropy units km/s) The local standard of rest\n",
    "    \"\"\"\n",
    "    VLSR = 4.74*(mu)*(Ro/u.kpc)*u.km/u.s-(v_sun)\n",
    "    return VLSR\n"
   ]
  },
  {
   "cell_type": "code",
   "execution_count": 8,
   "metadata": {},
   "outputs": [],
   "source": [
    "#Different values for the distance of the Sun to the galactic center\n",
    "RoReid = 8.34*u.kpc #Reid + 2014\n",
    "RoAbuter = 8.178*u.kpc #Abuter + 2019\n",
    "RoSparke = 7.9*u.kpc #Sparke & Gallagher"
   ]
  },
  {
   "cell_type": "code",
   "execution_count": 25,
   "metadata": {},
   "outputs": [
    {
     "name": "stdout",
     "output_type": "stream",
     "text": [
      "Reid. 239.9320764 km / s\n",
      "Abuter. 235.03 km / s\n",
      "Sparke. 226.628034 km / s\n"
     ]
    }
   ],
   "source": [
    "#Compute VLSR using Reid 2014\n",
    "VLSR_Reid = VLSR(RoReid)\n",
    "print(f'Reid. {VLSR_Reid}')\n",
    "\n",
    "#Compute VLSR using Abuter 2019\n",
    "VLSR_Abuter = VLSR(RoAbuter)\n",
    "print(f'Abuter. {VLSR_Abuter:.2f}')\n",
    "\n",
    "#Compute VLSR using Sparke & Gallagher\n",
    "VLSR_Sparke = VLSR(RoSparke)\n",
    "print(f'Sparke. {VLSR_Sparke}')"
   ]
  },
  {
   "cell_type": "markdown",
   "metadata": {},
   "source": [
    "### b)\n",
    "\n",
    "compute the orbital period of the sun in Gyr using R$_o$ from the GRAVITY Collaboration (assume circular orbit)\n",
    "\n",
    "Note that 1 km/s $\\sim$ 1kpc/Gyr"
   ]
  },
  {
   "cell_type": "code",
   "execution_count": 29,
   "metadata": {},
   "outputs": [],
   "source": [
    "#Orbital period = 2piR/V\n",
    "\n",
    "def TorbSun(Ro, Vc):\n",
    "    '''\n",
    "    This is a function the computes the orbital period of the Sun\n",
    "        T = 2*pi*R/V\n",
    "    Inputs:\n",
    "        Ro: astropy quantity, distance to the galactic center from the Sun (kpc)\n",
    "        Vc: astropy quantity, velocity of the Sun around the galactic center in \n",
    "            the v-direction(km/s)\n",
    "    Outputs:\n",
    "        T: astropy quantity, Orbital period (Gyr)\n",
    "    '''\n",
    "    V_kpc_Gyr = Vc.to(u.kpc/u.Gyr) #Converting Vc(km/s) to Vc(kpc/Gyr)\n",
    "\n",
    "    T = 2*np.pi*Ro/V_kpc_Gyr #Orbital period\n",
    "    return T"
   ]
  },
  {
   "cell_type": "code",
   "execution_count": 31,
   "metadata": {},
   "outputs": [],
   "source": [
    "VsunPec = 12.24*u.km/u.s #peculiar motion"
   ]
  },
  {
   "cell_type": "code",
   "execution_count": 41,
   "metadata": {},
   "outputs": [],
   "source": [
    "Vsun = VLSR_Abuter + VsunPec #Total motion of the Sun in the v-direction"
   ]
  },
  {
   "cell_type": "code",
   "execution_count": 45,
   "metadata": {},
   "outputs": [
    {
     "name": "stdout",
     "output_type": "stream",
     "text": [
      "0.203 Gyr\n"
     ]
    }
   ],
   "source": [
    "#Orbital period of the Sun\n",
    "T_Abuter = np.around(TorbSun(RoAbuter, Vsun), 3)\n",
    "print(T_Abuter)"
   ]
  },
  {
   "cell_type": "markdown",
   "metadata": {},
   "source": [
    "### c)\n",
    "\n",
    "Compute the number of rotations about the GC over the age of the universe (13.8 Gyr)"
   ]
  },
  {
   "cell_type": "code",
   "execution_count": 55,
   "metadata": {},
   "outputs": [
    {
     "name": "stdout",
     "output_type": "stream",
     "text": [
      "67.98 rotations\n"
     ]
    }
   ],
   "source": [
    "#Number of rotations about the GC over the age of the Universe\n",
    "AgeUniverse = 13.8*u.Gyr #Age of the Universe\n",
    "print(f'{AgeUniverse/T_Abuter:.2f} rotations')"
   ]
  },
  {
   "cell_type": "markdown",
   "metadata": {},
   "source": [
    "## Part B  Dark Matter Density Profiles\n",
    "\n",
    "### a)\n",
    "Try out Fitting Rotation Curves \n",
    "[here](http://wittman.physics.ucdavis.edu/Animations/RotationCurve/GalacticRotation.html)\n",
    "\n",
    "\n",
    "### b)\n",
    "\n",
    "\n",
    "In the Isothermal Sphere model, what is the mass enclosed within the solar radius (R$_o$) in units of M$_\\odot$? \n",
    "\n",
    "Recall that for the Isothermal sphere :\n",
    "$\\rho(r) = \\frac{V_{LSR}^2}{4\\pi G r^2}$\n",
    "\n",
    "Where $G$ = 4.4985e-6 kpc$^3$/Gyr$^2$/M$_\\odot$, r is in kpc and $V_{LSR}$ is in km/s\n",
    "\n",
    "What about at 260 kpc (in units of  M$_\\odot$) ? "
   ]
  },
  {
   "cell_type": "code",
   "execution_count": 61,
   "metadata": {},
   "outputs": [
    {
     "name": "stdout",
     "output_type": "stream",
     "text": [
      "4.498502151469554e-06 kpc3 / (solMass Gyr2)\n"
     ]
    }
   ],
   "source": [
    "Grav = const.G.to(u.kpc**3/u.Gyr**2/u.Msun)\n",
    "print(Grav)"
   ]
  },
  {
   "cell_type": "code",
   "execution_count": 63,
   "metadata": {},
   "outputs": [],
   "source": [
    "# Density profile rho = VLSR^2/(4*pi*G*R^2)\n",
    "# Mass (r) = Integrate rho dV\n",
    "#           Integrate rho 4*pi*r^2*dr\n",
    "#           Integrate VLSR^2/ (4*pi*G*R^2) * 4*pi*r^2*dr\n",
    "#           Integrate VLSR^2/G dr\n",
    "#           VLSR^2/G*r\n",
    "def massIso(r, VLSR):\n",
    "    '''\n",
    "    Function computes the dark matter mass enclosed within a given distance, r, \n",
    "        assuming an Isothermal Sphere configuration, M(r) = VLSR^2/G*r\n",
    "    Inputs:\n",
    "        r (astropy quantity): distance from the GC (kpc)\n",
    "        VLSR (astropy quantity): the velocity at the local Standard of Rest (km/s)\n",
    "    Outputs:\n",
    "        M (astropy quantity): mass enclosed within r (Msun)\n",
    "    '''\n",
    "    VLSRkpcGyr = VLSR.to(u.kpc/u.Gyr) #Translating to kpc/Gyr\n",
    "    M = VLSRkpcGyr**2/Grav*r #Isothermal Sphere mass profile\n",
    "\n",
    "    return M"
   ]
  },
  {
   "cell_type": "code",
   "execution_count": 69,
   "metadata": {},
   "outputs": [
    {
     "name": "stdout",
     "output_type": "stream",
     "text": [
      "1.05e+11 solMass\n"
     ]
    }
   ],
   "source": [
    "#Compute mass enclosed within Ro (Gravity Collab)\n",
    "mIsoSolar = massIso(RoAbuter, VLSR_Abuter)\n",
    "print(f'{mIsoSolar:.2e}')"
   ]
  },
  {
   "cell_type": "code",
   "execution_count": 73,
   "metadata": {},
   "outputs": [
    {
     "name": "stdout",
     "output_type": "stream",
     "text": [
      "3.34e+12 solMass\n"
     ]
    }
   ],
   "source": [
    "#Compute the mass enclosed at 260 kpc\n",
    "mIso260 = massIso(260*u.kpc, VLSR_Abuter)\n",
    "print(f'{mIso260:.2e}')"
   ]
  },
  {
   "cell_type": "code",
   "execution_count": 77,
   "metadata": {},
   "outputs": [
    {
     "name": "stdout",
     "output_type": "stream",
     "text": [
      "2.93e+12 solMass\n"
     ]
    }
   ],
   "source": [
    "#Compute the mass enclosed at 260 kpc and VLSR = 220 km/s\n",
    "mIso260 = massIso(260*u.kpc, 220*u.km/u.s)\n",
    "print(f'{mIso260:.2e}')"
   ]
  },
  {
   "cell_type": "markdown",
   "metadata": {},
   "source": [
    "## c) \n",
    "\n",
    "The Leo I satellite is one of the fastest moving satellite galaxies we know. \n",
    "\n",
    "\n",
    "It is moving with 3D velocity of magnitude: Vtot = 196 km/s at a distance of 260 kpc (Sohn 2013 ApJ 768)\n",
    "\n",
    "If we assume that Leo I is moving at the escape speed:\n",
    "\n",
    "$v_{esc}^2 = 2|\\Phi| = 2 \\int G \\frac{\\rho(r)}{r}dV $ \n",
    "\n",
    "and assuming the Milky Way is well modeled by a Hernquist Sphere with a scale radius of $a$= 30 kpc, what is the minimum mass of the Milky Way (in units of M$_\\odot$) ?  \n",
    "\n",
    "How does this compare to estimates of the mass assuming the Isothermal Sphere model at 260 kpc (from your answer above)"
   ]
  },
  {
   "cell_type": "code",
   "execution_count": 79,
   "metadata": {},
   "outputs": [],
   "source": [
    "# Potential for a Hernquist Sphere\n",
    "#. Phi = -G*M/(r+a)\n",
    "\n",
    "#Escape speed becomes:\n",
    "#. v_esc^2 = 2*G*M/(r+a)\n",
    "\n",
    "#rearrange for M\n",
    "#. M = v_esc^2/2/G*(r+a)\n",
    "\n",
    "def massHernVesc(v_esc, r, a=30*u.kpc):\n",
    "    '''\n",
    "    This function determines the total Dark Matter mass needed given an escape speed, assuming a Hernquist profile\n",
    "    Inputs:\n",
    "        v_esc (astropy quantity): escape speed (km/s)\n",
    "        \n",
    "        r (astropy quantity): distance from the GC (kpc)\n",
    "        \n",
    "        a (astropy quantity): the Hernquist scale length (kpc)\n",
    "\n",
    "    Outputs:\n",
    "        M (astropy quantity): mass within r (Msun)\n",
    "    '''\n",
    "    v_esckpcGyr = v_esc.to(u.kpc/u.Gyr) #Converting v_esc into kpc/Gyr\n",
    "\n",
    "    M = v_esckpcGyr**2/2/Grav*(r+a) #Computing the Mass\n",
    "\n",
    "    return M\n",
    "    "
   ]
  },
  {
   "cell_type": "code",
   "execution_count": 81,
   "metadata": {},
   "outputs": [],
   "source": [
    "V_leo = 196*u.km/u.s #Speed of Leo I Sohn et al.\n",
    "r = 260*u.kpc"
   ]
  },
  {
   "cell_type": "code",
   "execution_count": 85,
   "metadata": {},
   "outputs": [
    {
     "name": "stdout",
     "output_type": "stream",
     "text": [
      "1.30e+12 solMass\n"
     ]
    }
   ],
   "source": [
    "MLeoI = massHernVesc(V_leo, r)\n",
    "print(f'{MLeoI:.2e}')"
   ]
  },
  {
   "cell_type": "code",
   "execution_count": null,
   "metadata": {},
   "outputs": [],
   "source": []
  }
 ],
 "metadata": {
  "kernelspec": {
   "display_name": "Python [conda env:base] *",
   "language": "python",
   "name": "conda-base-py"
  },
  "language_info": {
   "codemirror_mode": {
    "name": "ipython",
    "version": 3
   },
   "file_extension": ".py",
   "mimetype": "text/x-python",
   "name": "python",
   "nbconvert_exporter": "python",
   "pygments_lexer": "ipython3",
   "version": "3.12.7"
  }
 },
 "nbformat": 4,
 "nbformat_minor": 4
}
