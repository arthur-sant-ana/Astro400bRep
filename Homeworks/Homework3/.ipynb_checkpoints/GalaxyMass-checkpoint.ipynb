{
 "cells": [
  {
   "cell_type": "code",
   "execution_count": 7,
   "id": "32e03fad-8bc3-42e4-8713-8bb3e27a1733",
   "metadata": {},
   "outputs": [],
   "source": [
    "import numpy as np\n",
    "import astropy.units as u\n",
    "import pandas as pd\n",
    "from ReadFile import Read\n",
    "import matplotlib.pyplot as plt\n",
    "from matplotlib.backends.backend_pdf import PdfPages\n",
    "\n",
    "def ComponentMass(filename, p_type):\n",
    "    '''\n",
    "    This function calculates the total mass of a certain particle type in a galaxy .txt file\n",
    "    Inputs:\n",
    "        filename (.txt file): name of the file referring to a galaxy simulation\n",
    "        p_type (int raging from 1 to 3): integer that refers to a particle type\n",
    "    Outputs:\n",
    "        TotMass (float): float containing the total mass for a given particle \n",
    "            type in units of 10^12 solar masses\n",
    "    '''\n",
    "    \n",
    "    #Using the Read function from the previous assignment and storing data onto the 'data' variable\n",
    "    data = Read(filename)[2]\n",
    "    \n",
    "    #Indexing the data according to the particle type\n",
    "    index = np.where(data['type'] == p_type)\n",
    "    \n",
    "    #Creating a variable for the total mass to be stored\n",
    "    TotMass = 0\n",
    "    \n",
    "    #For loop iterating over every row and adding up the values\n",
    "    for i in data['m'][index]:\n",
    "        TotMass += i*10**10*u.Msun\n",
    "    \n",
    "    return np.around(TotMass/(10**12*u.Msun), 3)"
   ]
  },
  {
   "cell_type": "code",
   "execution_count": 18,
   "id": "160dd39c-e666-47f2-a34b-a077e528df8e",
   "metadata": {},
   "outputs": [],
   "source": [
    "def MassDataFrame(filename_list):\n",
    "    '''\n",
    "    This function creates a pandas DataFrame for the galaxies in a list and with the\n",
    "        the rows being the type of particles\n",
    "    Input:\n",
    "        filename_list (python list of strings): this variable takes in a list containing strings\n",
    "            referring to .txt files containing data for galaxies\n",
    "            \n",
    "    Output:\n",
    "        df (pandas Dataframe): This function outputs a DataFrame with the Galaxy filenames being \n",
    "            the columns and the particle types being the rows\n",
    "    '''\n",
    "    #Create a pandas DataFrame called df, having the appropriate columns and index being filename_list\n",
    "    column_list = ['Galaxy Name' , 'Halo Mass', 'Disk Mass', 'Bulge Mass', 'Sum', 'Fraction']\n",
    "    df = pd.DataFrame(columns = column_list, index = filename_list)\n",
    "    \n",
    "    #For loops appending values that come out of the ComponentMass function\n",
    "    #into the correct position of the DataFrame\n",
    "    \n",
    "    #For loop appending the first three values referring to each different particle type\n",
    "    for i in filename_list:\n",
    "        df.loc[i] = {'Halo Mass': ComponentMass(i, 1), \n",
    "                     'Disk Mass':ComponentMass(i, 2), \n",
    "                     'Bulge Mass':ComponentMass(i, 3)}\n",
    "    df.loc['M33_000.txt', 'Bulge Mass'] = 0\n",
    "    \n",
    "    #For loop appending values for the 'Sum' column\n",
    "    for i in filename_list:\n",
    "        df.loc[i, 'Sum'] = df.loc[i].sum()\n",
    "    \n",
    "    #For loop appending values for the 'Fraction' column\n",
    "    for k in filename_list:\n",
    "        df.loc[k, 'Fraction'] = np.around((df.loc[k, 'Bulge Mass']+df.loc[k, 'Disk Mass'])/(df.loc[k, 'Sum']), 3)\n",
    "    df['Galaxy Name'] = ['Milky Way','M31','M33']  \n",
    "    \n",
    "    #Reseting the index\n",
    "    df.index = [0,1,2]\n",
    "\n",
    "    #Renaming the columns so that they have the correct\n",
    "    #units\n",
    "    df.columns = (['Galaxy Name' , r'Halo Mass ($10^{12} M_{\\odot}$)', \n",
    "                                 r'Disk Mass ($10^{12} M_{\\odot}$)', \n",
    "                                r'Bulge Mass ($10^{12} M_{\\odot}$)', \n",
    "                                 r'Sum ($10^{12} M_{\\odot}$)', \n",
    "                                 r'Fraction ($10^{12} M_{\\odot}$)'])\n",
    "    return df"
   ]
  },
  {
   "cell_type": "code",
   "execution_count": 20,
   "id": "49b7ff82-226c-4767-9231-f66ffe63a269",
   "metadata": {},
   "outputs": [],
   "source": [
    "#These last few lines will be only for exporting the DataFrame onto a PDF file\n",
    "df = MassDataFrame(['MW_000.txt','M31_000.txt','M33_000.txt'])"
   ]
  },
  {
   "cell_type": "code",
   "execution_count": 21,
   "id": "e217eded-069a-47ba-9c82-b94d5a95171e",
   "metadata": {},
   "outputs": [
    {
     "data": {
      "text/html": [
       "<div>\n",
       "<style scoped>\n",
       "    .dataframe tbody tr th:only-of-type {\n",
       "        vertical-align: middle;\n",
       "    }\n",
       "\n",
       "    .dataframe tbody tr th {\n",
       "        vertical-align: top;\n",
       "    }\n",
       "\n",
       "    .dataframe thead th {\n",
       "        text-align: right;\n",
       "    }\n",
       "</style>\n",
       "<table border=\"1\" class=\"dataframe\">\n",
       "  <thead>\n",
       "    <tr style=\"text-align: right;\">\n",
       "      <th></th>\n",
       "      <th>Galaxy Name</th>\n",
       "      <th>Halo Mass ($10^{12} M_{\\odot}$)</th>\n",
       "      <th>Disk Mass ($10^{12} M_{\\odot}$)</th>\n",
       "      <th>Bulge Mass ($10^{12} M_{\\odot}$)</th>\n",
       "      <th>Sum ($10^{12} M_{\\odot}$)</th>\n",
       "      <th>Fraction ($10^{12} M_{\\odot}$)</th>\n",
       "    </tr>\n",
       "  </thead>\n",
       "  <tbody>\n",
       "    <tr>\n",
       "      <th>0</th>\n",
       "      <td>Milky Way</td>\n",
       "      <td>1.975</td>\n",
       "      <td>0.075</td>\n",
       "      <td>0.01</td>\n",
       "      <td>2.06</td>\n",
       "      <td>0.041</td>\n",
       "    </tr>\n",
       "    <tr>\n",
       "      <th>1</th>\n",
       "      <td>M31</td>\n",
       "      <td>1.921</td>\n",
       "      <td>0.12</td>\n",
       "      <td>0.019</td>\n",
       "      <td>2.06</td>\n",
       "      <td>0.067</td>\n",
       "    </tr>\n",
       "    <tr>\n",
       "      <th>2</th>\n",
       "      <td>M33</td>\n",
       "      <td>0.187</td>\n",
       "      <td>0.009</td>\n",
       "      <td>0</td>\n",
       "      <td>0.196</td>\n",
       "      <td>0.046</td>\n",
       "    </tr>\n",
       "  </tbody>\n",
       "</table>\n",
       "</div>"
      ],
      "text/plain": [
       "  Galaxy Name Halo Mass ($10^{12} M_{\\odot}$) Disk Mass ($10^{12} M_{\\odot}$)  \\\n",
       "0   Milky Way                           1.975                           0.075   \n",
       "1         M31                           1.921                            0.12   \n",
       "2         M33                           0.187                           0.009   \n",
       "\n",
       "  Bulge Mass ($10^{12} M_{\\odot}$) Sum ($10^{12} M_{\\odot}$)  \\\n",
       "0                             0.01                      2.06   \n",
       "1                            0.019                      2.06   \n",
       "2                                0                     0.196   \n",
       "\n",
       "  Fraction ($10^{12} M_{\\odot}$)  \n",
       "0                          0.041  \n",
       "1                          0.067  \n",
       "2                          0.046  "
      ]
     },
     "execution_count": 21,
     "metadata": {},
     "output_type": "execute_result"
    }
   ],
   "source": [
    "df"
   ]
  },
  {
   "cell_type": "code",
   "execution_count": 24,
   "id": "af4a5494-d648-471f-a6d5-6cc5b6e156ad",
   "metadata": {},
   "outputs": [
    {
     "data": {
      "image/png": "[encoded data removed]",
      "text/plain": [
       "<Figure size 1200x400 with 1 Axes>"
      ]
     },
     "metadata": {},
     "output_type": "display_data"
    }
   ],
   "source": [
    "#Creating a matplotlib fig for the pandas DataFrame\n",
    "fig, ax =plt.subplots(figsize=(12,4))\n",
    "ax.axis('tight')\n",
    "ax.axis('off')\n",
    "the_table = ax.table(cellText=df.values,colLabels=df.columns,loc='center')"
   ]
  },
  {
   "cell_type": "code",
   "execution_count": 26,
   "id": "02407542-a414-47b8-aa0a-317a70928f77",
   "metadata": {},
   "outputs": [],
   "source": [
    "#Criating a PDF\n",
    "pp = PdfPages(\"GalaxiesMasses.pdf\")\n",
    "pp.savefig(fig, bbox_inches='tight')\n",
    "pp.close()"
   ]
  },
  {
   "cell_type": "code",
   "execution_count": null,
   "id": "6fa1d457-e433-4600-b05d-3df66f586147",
   "metadata": {},
   "outputs": [],
   "source": []
  }
 ],
 "metadata": {
  "kernelspec": {
   "display_name": "Python [conda env:base] *",
   "language": "python",
   "name": "conda-base-py"
  },
  "language_info": {
   "codemirror_mode": {
    "name": "ipython",
    "version": 3
   },
   "file_extension": ".py",
   "mimetype": "text/x-python",
   "name": "python",
   "nbconvert_exporter": "python",
   "pygments_lexer": "ipython3",
   "version": "3.12.7"
  }
 },
 "nbformat": 4,
 "nbformat_minor": 5
}
