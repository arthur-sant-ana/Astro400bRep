{
 "cells": [
  {
   "cell_type": "code",
   "execution_count": 12,
   "id": "32e03fad-8bc3-42e4-8713-8bb3e27a1733",
   "metadata": {},
   "outputs": [],
   "source": [
    "import numpy as np\n",
    "import astropy.units as u\n",
    "from ReadFile import Read\n",
    "\n",
    "def ComponentMass(filename, p_type):\n",
    "    '''\n",
    "    '''\n",
    "    data = Read(filename)[2]\n",
    "    index = np.where(data['type'] == p_type)\n",
    "    TotMass = 0\n",
    "    for i in data['m'][index]:\n",
    "        TotMass += i*10**10*u.Msun\n",
    "    return np.around(TotMass/(10**12*u.Msun), 3)"
   ]
  },
  {
   "cell_type": "code",
   "execution_count": 14,
   "id": "4a6fd06e-ff76-463e-8677-c03b3e0f63b7",
   "metadata": {},
   "outputs": [
    {
     "name": "stdout",
     "output_type": "stream",
     "text": [
      "1.975\n"
     ]
    }
   ],
   "source": [
    "print(ComponentMass('MW_000.txt', 1))"
   ]
  },
  {
   "cell_type": "code",
   "execution_count": 16,
   "id": "d7848ef6-b86f-48ef-aa64-725d87b91302",
   "metadata": {},
   "outputs": [
    {
     "name": "stdout",
     "output_type": "stream",
     "text": [
      "0.075\n"
     ]
    }
   ],
   "source": [
    "print(ComponentMass('MW_000.txt', 2))"
   ]
  },
  {
   "cell_type": "code",
   "execution_count": 18,
   "id": "21d4b19d-0bdc-407e-b511-6d0f9defbfb0",
   "metadata": {},
   "outputs": [
    {
     "name": "stdout",
     "output_type": "stream",
     "text": [
      "0.01\n"
     ]
    }
   ],
   "source": [
    "print(ComponentMass('MW_000.txt', 3))"
   ]
  },
  {
   "cell_type": "code",
   "execution_count": 20,
   "id": "47f54cf9-5a99-4a5a-874c-c9273edc1c8c",
   "metadata": {},
   "outputs": [
    {
     "name": "stdout",
     "output_type": "stream",
     "text": [
      "1.921\n"
     ]
    }
   ],
   "source": [
    "print(ComponentMass('M31_000.txt', 1))"
   ]
  },
  {
   "cell_type": "code",
   "execution_count": 24,
   "id": "abad7a05-487a-479a-a409-a830b51f8219",
   "metadata": {},
   "outputs": [
    {
     "name": "stdout",
     "output_type": "stream",
     "text": [
      "0.12\n"
     ]
    }
   ],
   "source": [
    "print(ComponentMass('M31_000.txt', 2))"
   ]
  },
  {
   "cell_type": "code",
   "execution_count": 26,
   "id": "7b36c326-19db-4847-b0ba-f5700e3f9cd5",
   "metadata": {},
   "outputs": [
    {
     "name": "stdout",
     "output_type": "stream",
     "text": [
      "0.019\n"
     ]
    }
   ],
   "source": [
    "print(ComponentMass('M31_000.txt', 3))"
   ]
  },
  {
   "cell_type": "code",
   "execution_count": 28,
   "id": "988b4a9c-86bd-4488-a879-5cef7f028ace",
   "metadata": {},
   "outputs": [
    {
     "name": "stdout",
     "output_type": "stream",
     "text": [
      "0.187\n"
     ]
    }
   ],
   "source": [
    "print(ComponentMass('M33_000.txt', 1))"
   ]
  },
  {
   "cell_type": "code",
   "execution_count": 30,
   "id": "2ae68c68-9eb9-4dd6-88dc-8c03d7d32256",
   "metadata": {},
   "outputs": [
    {
     "name": "stdout",
     "output_type": "stream",
     "text": [
      "0.009\n"
     ]
    }
   ],
   "source": [
    "print(ComponentMass('M33_000.txt', 2))"
   ]
  },
  {
   "cell_type": "code",
   "execution_count": null,
   "id": "49b7ff82-226c-4767-9231-f66ffe63a269",
   "metadata": {},
   "outputs": [],
   "source": []
  }
 ],
 "metadata": {
  "kernelspec": {
   "display_name": "Python [conda env:base] *",
   "language": "python",
   "name": "conda-base-py"
  },
  "language_info": {
   "codemirror_mode": {
    "name": "ipython",
    "version": 3
   },
   "file_extension": ".py",
   "mimetype": "text/x-python",
   "name": "python",
   "nbconvert_exporter": "python",
   "pygments_lexer": "ipython3",
   "version": "3.12.7"
  }
 },
 "nbformat": 4,
 "nbformat_minor": 5
}
