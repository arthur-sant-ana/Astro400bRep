{
 "cells": [
  {
   "cell_type": "code",
   "execution_count": 1,
   "id": "32e03fad-8bc3-42e4-8713-8bb3e27a1733",
   "metadata": {},
   "outputs": [],
   "source": [
    "import numpy as np\n",
    "import astropy.units as u\n",
    "import pandas as pd\n",
    "from ReadFile import Read\n",
    "\n",
    "def ComponentMass(filename, p_type):\n",
    "    '''\n",
    "    '''\n",
    "    data = Read(filename)[2]\n",
    "    index = np.where(data['type'] == p_type)\n",
    "    TotMass = 0\n",
    "    for i in data['m'][index]:\n",
    "        TotMass += i*10**10*u.Msun\n",
    "    return np.around(TotMass/(10**12*u.Msun), 3)"
   ]
  },
  {
   "cell_type": "code",
   "execution_count": 49,
   "id": "160dd39c-e666-47f2-a34b-a077e528df8e",
   "metadata": {},
   "outputs": [],
   "source": [
    "def MassDataFrame(filename_list, p_type_list):\n",
    "    '''\n",
    "    This function creates a pandas DataFrame for the galaxies in a list and with the\n",
    "        the rows being the type of particles\n",
    "    Input:\n",
    "        filename_list (python list of strings): this variable takes in a list containing strings\n",
    "            referring to .txt files containing data for galaxies\n",
    "        p_type_list (python list of ints): this variable takes in a list of ints that refer to \n",
    "            the particle types\n",
    "    Output:\n",
    "        df (pandas Dataframe): This function outputs a DataFrame with the Galaxy filenames being \n",
    "            the columns and the particle types being the rows\n",
    "    '''\n",
    "    #Create a pandas DaatFrame called df, having filename_list as the columns\n",
    "    df = pd.DataFrame(columns = filename_list)\n",
    "    \n",
    "    #For loops appending values that come out of the ComponentMass function\n",
    "    #into the correct position of the DataFrame\n",
    "    for i in filename_list:\n",
    "        for j in p_type_list:\n",
    "            df.loc[j, i] = {ComponentMass(i, j)}\n",
    "    return df"
   ]
  },
  {
   "cell_type": "code",
   "execution_count": 47,
   "id": "49b7ff82-226c-4767-9231-f66ffe63a269",
   "metadata": {},
   "outputs": [
    {
     "name": "stdout",
     "output_type": "stream",
     "text": [
      "  MW_000.txt M31_000.txt        M33_000.txt\n",
      "1    {1.975}     {1.921}            {0.187}\n",
      "2    {0.075}      {0.12}            {0.009}\n",
      "3     {0.01}     {0.019}  {0.0 1 / solMass}\n"
     ]
    }
   ],
   "source": [
    "print(MassDataFrame(['MW_000.txt','M31_000.txt','M33_000.txt'], [1,2,3]))"
   ]
  },
  {
   "cell_type": "code",
   "execution_count": null,
   "id": "e7d9a97e-9d00-4055-b417-ded03f4b4798",
   "metadata": {},
   "outputs": [],
   "source": []
  }
 ],
 "metadata": {
  "kernelspec": {
   "display_name": "Python [conda env:base] *",
   "language": "python",
   "name": "conda-base-py"
  },
  "language_info": {
   "codemirror_mode": {
    "name": "ipython",
    "version": 3
   },
   "file_extension": ".py",
   "mimetype": "text/x-python",
   "name": "python",
   "nbconvert_exporter": "python",
   "pygments_lexer": "ipython3",
   "version": "3.12.7"
  }
 },
 "nbformat": 4,
 "nbformat_minor": 5
}
