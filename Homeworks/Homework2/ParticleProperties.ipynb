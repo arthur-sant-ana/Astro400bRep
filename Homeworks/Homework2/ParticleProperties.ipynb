{
 "cells": [
  {
   "cell_type": "code",
   "execution_count": 1,
   "id": "5ad51e47-3012-44b3-95a4-13b00b7fc415",
   "metadata": {},
   "outputs": [],
   "source": [
    "import numpy as np\n",
    "import astropy.units as u"
   ]
  },
  {
   "cell_type": "code",
   "execution_count": 2,
   "id": "02106c2c-a747-43be-8f94-6f018554353c",
   "metadata": {},
   "outputs": [],
   "source": [
    "from ReadFile import Read"
   ]
  },
  {
   "cell_type": "code",
   "execution_count": 30,
   "id": "9b0e74da-b123-4d67-9a40-8ec8365453eb",
   "metadata": {},
   "outputs": [],
   "source": [
    "def ParticleInfo(filename, particle_type, particle_n):\n",
    "    '''\n",
    "    This function relays important information on the particle that is called by the Inputs\n",
    "    Inputs: \n",
    "        filename: A string containing name of the file that contains the data you to be accessed\n",
    "        particle_type: An int referring to the type of particle you want information on. This variable can assume\n",
    "            three distinct values: 1, 2 and 3. \n",
    "                Type 1 = Dark Matter particle, \n",
    "                Type 2 = Disk particle,\n",
    "                Type 3 = Halo particle\n",
    "        particle_n: An int referring to the number of the specific particle you want information about\n",
    "\n",
    "    Outputs:\n",
    "        This function outputs three values\n",
    "        1. D_distance: This is the 3D distance of the particle in regards to the center of the galaxy \n",
    "            (astropy unit of kpc)\n",
    "        2. D_velocity: This is the 3D velocity of the particle in a cartesian coordinate system \n",
    "            centered on the center of the galaxy (astropy unit of km/s)\n",
    "        3. mass: Total mass of the particle (astropy unit of solar masses) \n",
    "    '''\n",
    "    #Calling the Read function and storing the third Output, data, in the variable \"data\"\n",
    "    data = Read(filename)[2]\n",
    "    #Creating an index that associates the column 'type' in data to the Input 'particle_type'\n",
    "    #This makes it so 'particle_type' can be used to create three categories for the particles\n",
    "    index = np.where(data['type'] == particle_type)\n",
    "    \n",
    "    #Creating a 'mass' variable that stores the value found in the column 'm' for a given 'index' and 'particle_n'\n",
    "    mass = data['m'][index][particle_n]*10**10*u.Msun\n",
    "\n",
    "    #Creating a 'position' variable for each direction that stores the value found in the column 'x','y' or 'z' for a given \n",
    "    #'index' and 'particle_n' in units of kpc, These values are related to the distance of the particle to the center of the\n",
    "    #galaxy\n",
    "    x_position = data['x'][index][particle_n]*u.kpc\n",
    "    y_position = data['y'][index][particle_n]*u.kpc\n",
    "    z_position = data['z'][index][particle_n]*u.kpc\n",
    "\n",
    "    #Creating a 'velocity' variable for each direction that stores the value found in the column 'vx','vy' or 'vz' for a given \n",
    "    #'index' and 'particle_n' in units of km/s, These values are related to the velocity of the particle in different directions\n",
    "    x_velocity = data['vx'][index][particle_n]*(u.km/u.s)\n",
    "    y_velocity = data['vy'][index][particle_n]*(u.km/u.s)\n",
    "    z_velocity = data['vz'][index][particle_n]*(u.km/u.s)\n",
    "\n",
    "    #Calculating the distance of the particle to the center of the galaxy in 3D and storing the value in the variable 'D_distance'\n",
    "    D_distance = np.around(np.sqrt(x_position**2 + y_position**2 + z_position**2), 3)\n",
    "\n",
    "    #Calculating the velocity of the particle in 3D and storing the value in the variable 'D_velocity'\n",
    "    D_velocity = np.around(np.sqrt(x_velocity**2 + y_velocity**2 + z_velocity**2), 3)\n",
    "\n",
    "    #Returning 'D_distance', 'D_velocity' and 'mass'\n",
    "    return D_distance, D_velocity, mass"
   ]
  },
  {
   "cell_type": "code",
   "execution_count": 34,
   "id": "736dde60-3726-4bd5-b410-565ec251bba6",
   "metadata": {},
   "outputs": [
    {
     "name": "stdout",
     "output_type": "stream",
     "text": [
      "(<Quantity 19.366 kpc>, <Quantity 214.799 km / s>, <Quantity 1000000. solMass>)\n"
     ]
    }
   ],
   "source": [
    "print(ParticleInfo('MW_000.txt', 2, 100))"
   ]
  },
  {
   "cell_type": "code",
   "execution_count": 40,
   "id": "2765cfd9-f05f-47f6-acb1-bb05ab363157",
   "metadata": {},
   "outputs": [
    {
     "name": "stdout",
     "output_type": "stream",
     "text": [
      "63163.444 lyr\n"
     ]
    }
   ],
   "source": [
    "print(np.around(ParticleInfo('MW_000.txt', 2, 100)[0].to(u.lightyear), 3))"
   ]
  },
  {
   "cell_type": "code",
   "execution_count": null,
   "id": "e01186ce-02d1-40ab-b8f0-7f4d191bcff4",
   "metadata": {},
   "outputs": [],
   "source": []
  }
 ],
 "metadata": {
  "kernelspec": {
   "display_name": "Python [conda env:base] *",
   "language": "python",
   "name": "conda-base-py"
  },
  "language_info": {
   "codemirror_mode": {
    "name": "ipython",
    "version": 3
   },
   "file_extension": ".py",
   "mimetype": "text/x-python",
   "name": "python",
   "nbconvert_exporter": "python",
   "pygments_lexer": "ipython3",
   "version": "3.12.7"
  }
 },
 "nbformat": 4,
 "nbformat_minor": 5
}
